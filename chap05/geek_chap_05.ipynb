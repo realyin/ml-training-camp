{
  "nbformat": 4,
  "nbformat_minor": 0,
  "metadata": {
    "colab": {
      "name": "geek_chap_05.ipynb",
      "provenance": []
    },
    "kernelspec": {
      "name": "python3",
      "display_name": "Python 3"
    }
  },
  "cells": [
    {
      "cell_type": "markdown",
      "metadata": {
        "id": "pQx4HByM_IA6"
      },
      "source": [
        "##Sympy\n",
        "---\n",
        "Sympy is a python libraries prrmarily designed for symbolic calculation (and other things). Let us show that how we can use it to simply our calculation for logistic functions. "
      ]
    },
    {
      "cell_type": "code",
      "metadata": {
        "colab": {
          "base_uri": "https://localhost:8080/"
        },
        "id": "t3Wjr0uW_Cry",
        "outputId": "c7c36b54-95f3-4931-c4bf-0b804491820e"
      },
      "source": [
        "!pip install sympy"
      ],
      "execution_count": 1,
      "outputs": [
        {
          "output_type": "stream",
          "text": [
            "Requirement already satisfied: sympy in /usr/local/lib/python3.6/dist-packages (1.1.1)\n",
            "Requirement already satisfied: mpmath>=0.19 in /usr/local/lib/python3.6/dist-packages (from sympy) (1.1.0)\n"
          ],
          "name": "stdout"
        }
      ]
    },
    {
      "cell_type": "code",
      "metadata": {
        "id": "cs6VQ1GlAFzG"
      },
      "source": [
        "from sympy import *\n",
        "init_printing(use_unicode=True)"
      ],
      "execution_count": 2,
      "outputs": []
    },
    {
      "cell_type": "code",
      "metadata": {
        "id": "egAgZB93At92"
      },
      "source": [
        "x = symbols('x')"
      ],
      "execution_count": 3,
      "outputs": []
    },
    {
      "cell_type": "code",
      "metadata": {
        "id": "3YVBww6SAIbB"
      },
      "source": [
        "def sigma(x):\n",
        "    return 1/(1 + exp(-x))"
      ],
      "execution_count": 4,
      "outputs": []
    },
    {
      "cell_type": "code",
      "metadata": {
        "colab": {
          "base_uri": "https://localhost:8080/",
          "height": 44
        },
        "id": "J409ZWQnAqQf",
        "outputId": "505b4279-b250-417f-e016-ba24e21fb807"
      },
      "source": [
        "diff(sigma(x), x)"
      ],
      "execution_count": 5,
      "outputs": [
        {
          "output_type": "execute_result",
          "data": {
            "image/png": "[encoded data removed]",
            "text/latex": "$$\\frac{e^{- x}}{\\left(1 + e^{- x}\\right)^{2}}$$",
            "text/plain": [
              "    -x    \n",
              "   ℯ      \n",
              "──────────\n",
              "         2\n",
              "⎛     -x⎞ \n",
              "⎝1 + ℯ  ⎠ "
            ]
          },
          "metadata": {
            "tags": []
          },
          "execution_count": 5
        }
      ]
    },
    {
      "cell_type": "code",
      "metadata": {
        "id": "LAyAnSWaAsUp"
      },
      "source": [
        "def log_lik(t):\n",
        "    return log(sigma(t))\n",
        "def log_lik_minus(t):\n",
        "    return log(1-sigma(t))"
      ],
      "execution_count": 6,
      "outputs": []
    },
    {
      "cell_type": "code",
      "metadata": {
        "colab": {
          "base_uri": "https://localhost:8080/",
          "height": 41
        },
        "id": "loDK1YWNBHj4",
        "outputId": "07e4769c-8e47-413b-9a48-6162844b96e0"
      },
      "source": [
        "diff(log_lik(x),x)"
      ],
      "execution_count": 7,
      "outputs": [
        {
          "output_type": "execute_result",
          "data": {
            "image/png": "[encoded data removed]",
            "text/latex": "$$\\frac{e^{- x}}{1 + e^{- x}}$$",
            "text/plain": [
              "   -x  \n",
              "  ℯ    \n",
              "───────\n",
              "     -x\n",
              "1 + ℯ  "
            ]
          },
          "metadata": {
            "tags": []
          },
          "execution_count": 7
        }
      ]
    },
    {
      "cell_type": "code",
      "metadata": {
        "colab": {
          "base_uri": "https://localhost:8080/",
          "height": 49
        },
        "id": "pxFDrMLWBUUT",
        "outputId": "ee9d2578-773b-4354-d0d3-0373b5b71623"
      },
      "source": [
        "diff(log_lik_minus(x), x)"
      ],
      "execution_count": 8,
      "outputs": [
        {
          "output_type": "execute_result",
          "data": {
            "image/png": "[encoded data removed]",
            "text/latex": "$$- \\frac{e^{- x}}{\\left(1 - \\frac{1}{1 + e^{- x}}\\right) \\left(1 + e^{- x}\\right)^{2}}$$",
            "text/plain": [
              "           -x           \n",
              "         -ℯ             \n",
              "────────────────────────\n",
              "                       2\n",
              "⎛       1   ⎞ ⎛     -x⎞ \n",
              "⎜1 - ───────⎟⋅⎝1 + ℯ  ⎠ \n",
              "⎜         -x⎟           \n",
              "⎝    1 + ℯ  ⎠           "
            ]
          },
          "metadata": {
            "tags": []
          },
          "execution_count": 8
        }
      ]
    },
    {
      "cell_type": "markdown",
      "metadata": {
        "id": "f0AOwEu0Bk7Y"
      },
      "source": [
        "The results above are ugly. Let us try to simplify it using `simplify` function."
      ]
    },
    {
      "cell_type": "code",
      "metadata": {
        "colab": {
          "base_uri": "https://localhost:8080/",
          "height": 39
        },
        "id": "MeQnfBtqBbSO",
        "outputId": "021e6fa1-c7f5-4d89-c6ff-6834c34da9e1"
      },
      "source": [
        "simplify(diff(log_lik_minus(x), x))"
      ],
      "execution_count": 9,
      "outputs": [
        {
          "output_type": "execute_result",
          "data": {
            "image/png": "[encoded data removed]",
            "text/latex": "$$- \\frac{e^{x}}{e^{x} + 1}$$",
            "text/plain": [
              "   x  \n",
              " -ℯ   \n",
              "──────\n",
              " x    \n",
              "ℯ  + 1"
            ]
          },
          "metadata": {
            "tags": []
          },
          "execution_count": 9
        }
      ]
    },
    {
      "cell_type": "markdown",
      "metadata": {
        "id": "pfv_81-LEXJP"
      },
      "source": [
        "Let us use sympy to simplify certain notations. Pay attention that we have used $m$ to replace the $x_i^t\\beta$ part in the lecture notes. "
      ]
    },
    {
      "cell_type": "code",
      "metadata": {
        "id": "0Do4ZT0mBkDG"
      },
      "source": [
        " m, y = symbols('m y')\n",
        " def my_expression(m, y):\n",
        "     return y * (exp(-m)/(1+exp(-m))) - (1-y)*(exp(m)/(1+exp(m)))"
      ],
      "execution_count": 10,
      "outputs": []
    },
    {
      "cell_type": "code",
      "metadata": {
        "colab": {
          "base_uri": "https://localhost:8080/",
          "height": 41
        },
        "id": "tWLsfdvHFctM",
        "outputId": "2ebd4198-2c6a-4b39-f472-1eabf23d6e21"
      },
      "source": [
        "simplify(my_expression(m, y))"
      ],
      "execution_count": 11,
      "outputs": [
        {
          "output_type": "execute_result",
          "data": {
            "image/png": "[encoded data removed]",
            "text/latex": "$$\\frac{y + \\left(y - 1\\right) e^{m}}{e^{m} + 1}$$",
            "text/plain": [
              "             m\n",
              "y + (y - 1)⋅ℯ \n",
              "──────────────\n",
              "     m        \n",
              "    ℯ  + 1    "
            ]
          },
          "metadata": {
            "tags": []
          },
          "execution_count": 11
        }
      ]
    },
    {
      "cell_type": "markdown",
      "metadata": {
        "id": "uusXyKBU3qgL"
      },
      "source": [
        "## Jax time\n",
        "\n",
        "Now let us try to use Jax to derive a useful version of optimize routine. "
      ]
    },
    {
      "cell_type": "code",
      "metadata": {
        "id": "1PfZvTfyFjGG"
      },
      "source": [
        "import jax \n",
        "from jax import lax\n",
        "from jax import random\n",
        "import jax.numpy as jnp"
      ],
      "execution_count": 244,
      "outputs": []
    },
    {
      "cell_type": "code",
      "metadata": {
        "id": "tqxa49WrnZjd"
      },
      "source": [
        "def sigmoid(x):\n",
        "    return 0.5 * (jnp.tanh(x / 2) + 1)"
      ],
      "execution_count": 274,
      "outputs": []
    },
    {
      "cell_type": "code",
      "metadata": {
        "id": "gXsKfkvv5pmg"
      },
      "source": [
        "key = random.PRNGKey(0)\n",
        "x_key, beta_key, beta_test_key = random.split(key,3)\n",
        "x = random.normal(x_key, (10000, 10))\n",
        "beta = random.normal(beta_key, (10,))*2\n",
        "beta_test = random.normal(beta_test_key, (10,))\n",
        "y = (sigmoid(x.dot(beta))>=0.5).astype(jnp.float32)\n"
      ],
      "execution_count": 280,
      "outputs": []
    },
    {
      "cell_type": "code",
      "metadata": {
        "colab": {
          "base_uri": "https://localhost:8080/"
        },
        "id": "owM7l8wHnPBe",
        "outputId": "7be9935b-f12e-4838-a3c9-775083d04af3"
      },
      "source": [
        "y.sum() # Check whether the results are reasonable"
      ],
      "execution_count": 281,
      "outputs": [
        {
          "output_type": "execute_result",
          "data": {
            "text/plain": [
              "DeviceArray(5017., dtype=float32)"
            ]
          },
          "metadata": {
            "tags": []
          },
          "execution_count": 281
        }
      ]
    },
    {
      "cell_type": "code",
      "metadata": {
        "id": "rRVc0iQmm83D"
      },
      "source": [
        "def predict(beta, x):\n",
        "    return sigmoid(x.dot(beta))\n",
        "\n",
        "def loss(beta):\n",
        "    preds = predict(beta,x)\n",
        "    label_probs = preds * y + (1 - preds) * (1 - y)\n",
        "    return -jnp.sum(jnp.log(label_probs))/10000.00 "
      ],
      "execution_count": 284,
      "outputs": []
    },
    {
      "cell_type": "code",
      "metadata": {
        "colab": {
          "base_uri": "https://localhost:8080/"
        },
        "id": "UwCE_H0noOUi",
        "outputId": "00977b26-e236-4fed-a0d8-74a0fe7c42a4"
      },
      "source": [
        "jax.grad(loss)(beta)"
      ],
      "execution_count": 285,
      "outputs": [
        {
          "output_type": "execute_result",
          "data": {
            "text/plain": [
              "DeviceArray([ 0.00455573,  0.01565121, -0.00860528, -0.00485264,\n",
              "              0.00207953, -0.00256935,  0.00626604, -0.00537516,\n",
              "              0.0021444 , -0.00108901], dtype=float32)"
            ]
          },
          "metadata": {
            "tags": []
          },
          "execution_count": 285
        }
      ]
    },
    {
      "cell_type": "code",
      "metadata": {
        "colab": {
          "base_uri": "https://localhost:8080/"
        },
        "id": "SdjRZxpkp5JZ",
        "outputId": "579419ea-8739-4ea4-e257-cd87d182180e"
      },
      "source": [
        "jax.grad(loss)(beta_test)"
      ],
      "execution_count": 286,
      "outputs": [
        {
          "output_type": "execute_result",
          "data": {
            "text/plain": [
              "DeviceArray([ 0.24341547,  0.29687792, -0.02719581, -0.13187408,\n",
              "             -0.05313727, -0.11881256,  0.1569478 ,  0.10492601,\n",
              "             -0.05401436, -0.03668952], dtype=float32)"
            ]
          },
          "metadata": {
            "tags": []
          },
          "execution_count": 286
        }
      ]
    },
    {
      "cell_type": "markdown",
      "metadata": {
        "id": "TpjKSDRJpL2K"
      },
      "source": [
        "# Question: What can We See from This Implementation?"
      ]
    },
    {
      "cell_type": "markdown",
      "metadata": {
        "id": "3i6jWOkhpVOH"
      },
      "source": [
        "The derivatives should be close to $0$. Because we are evaluating it at the true function. It should never be equal to $0$ because we generally never have unlimited sample for that, however, it should not be too huge as well. \n",
        "\n",
        "Also, it should in general be different from, say, a randomly initialized beta. "
      ]
    },
    {
      "cell_type": "markdown",
      "metadata": {
        "id": "37MrrD_RptKk"
      },
      "source": [
        "Now let us try to make our own implementation of the grad function. It should be close to what autograd gives us. \n",
        "\n",
        "What we have derived is that the gradient is \\begin{align*}\n",
        "-\\sum_i (y_i - \\sigma(x_i^t\\beta) )x_i \n",
        "\\end{align*}\n",
        "\n",
        "This isn't the most convenint form for implementation, thanks to the pesky summation. "
      ]
    },
    {
      "cell_type": "markdown",
      "metadata": {
        "id": "tdAtFsqUrTP3"
      },
      "source": [
        "# Question: How Can we Simplify the Above Expression?"
      ]
    },
    {
      "cell_type": "code",
      "metadata": {
        "id": "KiS2vSGwpFMK"
      },
      "source": [
        "# Why this makes sense?\n",
        "def custom_grad(beta):\n",
        "    residual = y - predict(beta, x)\n",
        "    return jnp.transpose(x).dot(-residual)/10000.00"
      ],
      "execution_count": 291,
      "outputs": []
    },
    {
      "cell_type": "code",
      "metadata": {
        "colab": {
          "base_uri": "https://localhost:8080/"
        },
        "id": "TH0fjd0PqYIx",
        "outputId": "9cc2ce77-35b7-40d0-c558-487393174e4c"
      },
      "source": [
        "custom_grad(beta)"
      ],
      "execution_count": 292,
      "outputs": [
        {
          "output_type": "execute_result",
          "data": {
            "text/plain": [
              "DeviceArray([ 0.00455572,  0.01565119, -0.00860529, -0.00485265,\n",
              "              0.00207953, -0.00256935,  0.00626603, -0.00537516,\n",
              "              0.00214439, -0.00108901], dtype=float32)"
            ]
          },
          "metadata": {
            "tags": []
          },
          "execution_count": 292
        }
      ]
    },
    {
      "cell_type": "code",
      "metadata": {
        "colab": {
          "base_uri": "https://localhost:8080/"
        },
        "id": "AtNGTvS0qZ3H",
        "outputId": "a586a037-692b-4686-d2b1-d13e1f8a0d47"
      },
      "source": [
        "custom_grad(beta_test)"
      ],
      "execution_count": 293,
      "outputs": [
        {
          "output_type": "execute_result",
          "data": {
            "text/plain": [
              "DeviceArray([ 0.24341445,  0.29687792, -0.02719574, -0.13187398,\n",
              "             -0.0531371 , -0.1188125 ,  0.15694797,  0.10492576,\n",
              "             -0.05401447, -0.03668943], dtype=float32)"
            ]
          },
          "metadata": {
            "tags": []
          },
          "execution_count": 293
        }
      ]
    },
    {
      "cell_type": "code",
      "metadata": {
        "id": "roiHZPXYrdvL"
      },
      "source": [
        ""
      ],
      "execution_count": null,
      "outputs": []
    }
  ]
}